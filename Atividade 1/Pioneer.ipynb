{
 "cells": [
  {
   "cell_type": "code",
   "execution_count": 30,
   "metadata": {},
   "outputs": [],
   "source": [
    "from coppeliasim_zmqremoteapi_client import *\n",
    "\n",
    "client = RemoteAPIClient()\n",
    "sim = client.getObject(\"sim\")\n",
    "\n",
    "handle_robo = sim.getObject(\"/PioneerP3DX\")\n",
    "roda_direita = sim.getObject(\"/PioneerP3DX/rightMotor\")\n",
    "roda_esquerda = sim.getObject(\"/PioneerP3DX/leftMotor\")\n",
    "\n",
    "#Dados do robo\n",
    "L = 0.381\n",
    "r = 0.075\n"
   ]
  },
  {
   "cell_type": "code",
   "execution_count": 31,
   "metadata": {},
   "outputs": [],
   "source": [
    "import numpy as np\n",
    "\n",
    "wr = np.deg2rad(50)\n",
    "wl = np.deg2rad(50)\n",
    "\n",
    "velocidade_rightMotor = sim.setJointTargetVelocity(roda_direita, wr)\n",
    "velocidade_leftMotor = sim.setJointTargetVelocity(roda_esquerda, wl)\n",
    "\n",
    "sim.startSimulation()\n",
    "\n",
    "while (t := sim.getSimulationTimeStep()) > 20:\n",
    "    \n",
    "    pos = sim.getObjectPosition(handle_robo)\n",
    "    print(pos)\n",
    "    \n",
    "sim.stopSimulation()    "
   ]
  }
 ],
 "metadata": {
  "kernelspec": {
   "display_name": "Python 3",
   "language": "python",
   "name": "python3"
  },
  "language_info": {
   "codemirror_mode": {
    "name": "ipython",
    "version": 3
   },
   "file_extension": ".py",
   "mimetype": "text/x-python",
   "name": "python",
   "nbconvert_exporter": "python",
   "pygments_lexer": "ipython3",
   "version": "3.11.2"
  }
 },
 "nbformat": 4,
 "nbformat_minor": 2
}
